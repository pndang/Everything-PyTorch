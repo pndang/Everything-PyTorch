{
  "nbformat": 4,
  "nbformat_minor": 0,
  "metadata": {
    "colab": {
      "provenance": [],
      "authorship_tag": "ABX9TyNME6hkAimjJw9LrSh8sSGt",
      "include_colab_link": true
    },
    "kernelspec": {
      "name": "python3",
      "display_name": "Python 3"
    },
    "language_info": {
      "name": "python"
    }
  },
  "cells": [
    {
      "cell_type": "markdown",
      "metadata": {
        "id": "view-in-github",
        "colab_type": "text"
      },
      "source": [
        "<a href=\"https://colab.research.google.com/github/pndang/Everything-PyTorch/blob/master/Understanding_RNN_Shapes.ipynb\" target=\"_parent\"><img src=\"https://colab.research.google.com/assets/colab-badge.svg\" alt=\"Open In Colab\"/></a>"
      ]
    },
    {
      "cell_type": "code",
      "execution_count": 1,
      "metadata": {
        "id": "q4TRpRM-b5u3"
      },
      "outputs": [],
      "source": [
        "import torch\n",
        "import torch.nn as nn\n",
        "import numpy as np\n",
        "import matplotlib.pyplot as plt"
      ]
    },
    {
      "cell_type": "code",
      "source": [
        "# N = number of samples\n",
        "# T = sequence length\n",
        "# D = number of input features\n",
        "# M = number of hidden units\n",
        "# K = number of output units"
      ],
      "metadata": {
        "id": "vf-WX3M0cCz3"
      },
      "execution_count": 2,
      "outputs": []
    },
    {
      "cell_type": "code",
      "source": [
        "# Make some data\n",
        "N = 1\n",
        "T = 10\n",
        "D = 3\n",
        "M = 5\n",
        "K = 2\n",
        "X = np.random.randn(N, T, D)"
      ],
      "metadata": {
        "id": "2GYh7LUzcMCD"
      },
      "execution_count": 3,
      "outputs": []
    },
    {
      "cell_type": "code",
      "source": [
        "X"
      ],
      "metadata": {
        "colab": {
          "base_uri": "https://localhost:8080/"
        },
        "id": "NXEke_hrcToJ",
        "outputId": "5e8ac9c6-14be-4e0f-e8bc-64ef124034f5"
      },
      "execution_count": 4,
      "outputs": [
        {
          "output_type": "execute_result",
          "data": {
            "text/plain": [
              "array([[[ 0.53520312,  0.20970803, -0.50321226],\n",
              "        [-1.09008526, -0.00332943, -1.04472737],\n",
              "        [-2.31402019, -0.82112938,  0.7578737 ],\n",
              "        [-0.50152503, -0.04526435, -0.10851617],\n",
              "        [ 0.10997366, -1.15137782,  0.12738908],\n",
              "        [-0.14816413, -1.01722317, -1.32630286],\n",
              "        [-0.20901049,  0.11876847,  0.95649862],\n",
              "        [ 0.74308443, -0.00485867, -0.2736849 ],\n",
              "        [ 0.36260891,  1.14192522, -0.40897029],\n",
              "        [ 0.43905177,  0.65212037,  0.31803129]]])"
            ]
          },
          "metadata": {},
          "execution_count": 4
        }
      ]
    },
    {
      "cell_type": "code",
      "source": [
        "## Define simple RNN\n",
        "\n",
        "class SimpleRNN(nn.Module):\n",
        "  def __init__(self, n_inputs, n_hidden, n_outputs):\n",
        "    super(SimpleRNN, self).__init__()\n",
        "    self.D = n_inputs\n",
        "    self.M = n_hidden\n",
        "    self.K = n_outputs\n",
        "\n",
        "    # Note: batch_first=True\n",
        "    # applies the convention that our data will be of shape:\n",
        "    # (num_samples, sequence_lenght, num_features)\n",
        "    # rather than:\n",
        "    # (sequence_length, num_samples, num_features)\n",
        "    self.rnn = nn.RNN(\n",
        "        input_size=self.D,\n",
        "        hidden_size=self.M,\n",
        "        nonlinearity='tanh',\n",
        "        batch_first=True\n",
        "    )\n",
        "\n",
        "    self.fc = nn.Linear(self.M, self.K)\n",
        "\n",
        "  def forward(self, X):\n",
        "    # Initial hidden state\n",
        "    h0 = torch.zeros(1, X.size(0), self.M)\n",
        "\n",
        "    # Get RNN unit output\n",
        "    # out is of size (N, T, M)\n",
        "    # 2nd return val is hidden state at each hidden layer (no need now)\n",
        "    # 1st return val is hidden state at each time instance\n",
        "    out, _ = self.rnn(X, h0)\n",
        "\n",
        "    out = self.fc(out)\n",
        "\n",
        "    return out  # shape: N x T x K"
      ],
      "metadata": {
        "id": "1_SZLBvZcUBw"
      },
      "execution_count": 11,
      "outputs": []
    },
    {
      "cell_type": "code",
      "source": [
        "# Instantiate model\n",
        "\n",
        "model = SimpleRNN(n_inputs=D, n_hidden=M, n_outputs=K)"
      ],
      "metadata": {
        "id": "otqVzC3GdVYL"
      },
      "execution_count": 12,
      "outputs": []
    },
    {
      "cell_type": "code",
      "source": [
        "# Get output\n",
        "\n",
        "inputs = torch.from_numpy(X.astype(np.float32))\n",
        "out = model(inputs)\n",
        "out"
      ],
      "metadata": {
        "colab": {
          "base_uri": "https://localhost:8080/"
        },
        "id": "IT2GqxbedjlS",
        "outputId": "832a72f9-4115-4301-e76e-cbd345459e5b"
      },
      "execution_count": 14,
      "outputs": [
        {
          "output_type": "execute_result",
          "data": {
            "text/plain": [
              "tensor([[[ 0.1429, -0.0677],\n",
              "         [ 0.1511, -0.0783],\n",
              "         [ 0.0952,  0.0529],\n",
              "         [-0.0661,  0.2883],\n",
              "         [ 0.0557, -0.1118],\n",
              "         [ 0.0827, -0.2274],\n",
              "         [-0.0364,  0.2808],\n",
              "         [ 0.1148, -0.0902],\n",
              "         [ 0.1539,  0.1009],\n",
              "         [ 0.1964,  0.0308]]], grad_fn=<ViewBackward0>)"
            ]
          },
          "metadata": {},
          "execution_count": 14
        }
      ]
    },
    {
      "cell_type": "code",
      "source": [
        "out.shape"
      ],
      "metadata": {
        "colab": {
          "base_uri": "https://localhost:8080/"
        },
        "id": "YZ_5ObxPd4t1",
        "outputId": "5bfa53e5-47f3-4d96-fb8f-36a13b6c3c75"
      },
      "execution_count": 15,
      "outputs": [
        {
          "output_type": "execute_result",
          "data": {
            "text/plain": [
              "torch.Size([1, 10, 2])"
            ]
          },
          "metadata": {},
          "execution_count": 15
        }
      ]
    },
    {
      "cell_type": "code",
      "source": [
        "# Save for later\n",
        "\n",
        "Yhats_torch = out.detach().numpy()"
      ],
      "metadata": {
        "id": "aqQIkMF3eNyR"
      },
      "execution_count": 16,
      "outputs": []
    },
    {
      "cell_type": "code",
      "source": [
        "W_xh, W_hh, b_xh, b_hh = model.rnn.parameters()"
      ],
      "metadata": {
        "id": "cVyxA86beWZx"
      },
      "execution_count": 19,
      "outputs": []
    },
    {
      "cell_type": "code",
      "source": [
        "W_xh.shape"
      ],
      "metadata": {
        "colab": {
          "base_uri": "https://localhost:8080/"
        },
        "id": "hVaPbRL7eaX_",
        "outputId": "7497aaea-7f0d-48da-ebcb-436aac363614"
      },
      "execution_count": 20,
      "outputs": [
        {
          "output_type": "execute_result",
          "data": {
            "text/plain": [
              "torch.Size([5, 3])"
            ]
          },
          "metadata": {},
          "execution_count": 20
        }
      ]
    },
    {
      "cell_type": "code",
      "source": [
        "W_xh"
      ],
      "metadata": {
        "colab": {
          "base_uri": "https://localhost:8080/"
        },
        "id": "tQSo0cWiefZ8",
        "outputId": "96387531-b9b5-4746-b2c2-4b0ac753d53f"
      },
      "execution_count": 21,
      "outputs": [
        {
          "output_type": "execute_result",
          "data": {
            "text/plain": [
              "Parameter containing:\n",
              "tensor([[ 0.4272,  0.3821,  0.0461],\n",
              "        [ 0.1543, -0.4468, -0.0435],\n",
              "        [-0.2653, -0.1527,  0.1049],\n",
              "        [ 0.1487,  0.0510,  0.1613],\n",
              "        [ 0.1439,  0.3714,  0.3141]], requires_grad=True)"
            ]
          },
          "metadata": {},
          "execution_count": 21
        }
      ]
    },
    {
      "cell_type": "code",
      "source": [
        "W_xh = W_xh.data.numpy()\n",
        "W_xh"
      ],
      "metadata": {
        "colab": {
          "base_uri": "https://localhost:8080/"
        },
        "id": "9etR5FVjehB0",
        "outputId": "72be6ca3-54f8-465d-93fa-7019c3a3b089"
      },
      "execution_count": 22,
      "outputs": [
        {
          "output_type": "execute_result",
          "data": {
            "text/plain": [
              "array([[ 0.42720553,  0.38207307,  0.04611127],\n",
              "       [ 0.15429308, -0.44676226, -0.04346886],\n",
              "       [-0.26530138, -0.15267031,  0.10485897],\n",
              "       [ 0.14873274,  0.05099438,  0.16125834],\n",
              "       [ 0.1439435 ,  0.3714183 ,  0.3140993 ]], dtype=float32)"
            ]
          },
          "metadata": {},
          "execution_count": 22
        }
      ]
    },
    {
      "cell_type": "code",
      "source": [
        "b_xh = b_xh.data.numpy()\n",
        "W_hh = W_hh.data.numpy()\n",
        "b_hh = b_hh.data.numpy()"
      ],
      "metadata": {
        "id": "wtoMIYV8evCd"
      },
      "execution_count": 23,
      "outputs": []
    },
    {
      "cell_type": "code",
      "source": [
        "W_xh.shape, b_xh.shape, W_hh.shape, b_hh.shape"
      ],
      "metadata": {
        "colab": {
          "base_uri": "https://localhost:8080/"
        },
        "id": "FjQcxmq3e3DH",
        "outputId": "30c40aef-e1a2-4f8b-d814-2374b67f395c"
      },
      "execution_count": 24,
      "outputs": [
        {
          "output_type": "execute_result",
          "data": {
            "text/plain": [
              "((5, 3), (5,), (5, 5), (5,))"
            ]
          },
          "metadata": {},
          "execution_count": 24
        }
      ]
    },
    {
      "cell_type": "code",
      "source": [
        "# Now get the FC layer weights\n",
        "Wo, bo = model.fc.parameters()"
      ],
      "metadata": {
        "id": "od5BRJ4-e-P0"
      },
      "execution_count": 25,
      "outputs": []
    },
    {
      "cell_type": "code",
      "source": [
        "Wo = Wo.data.numpy()\n",
        "bo = bo.data.numpy()\n",
        "Wo.shape, bo.shape"
      ],
      "metadata": {
        "colab": {
          "base_uri": "https://localhost:8080/"
        },
        "id": "0AxgxBFOe9Wg",
        "outputId": "2f82773f-5134-4441-fe7b-17ec5b2a557f"
      },
      "execution_count": 26,
      "outputs": [
        {
          "output_type": "execute_result",
          "data": {
            "text/plain": [
              "((2, 5), (2,))"
            ]
          },
          "metadata": {},
          "execution_count": 26
        }
      ]
    },
    {
      "cell_type": "code",
      "source": [
        "# See if we can replicate the output\n",
        "h_last = np.zeros(M) # initial hidden state\n",
        "x = X[0] # the one and only sample\n",
        "Yhats = np.zeros((T, K)) # where we store the outputs\n",
        "\n",
        "for t in range(T):\n",
        "  h = np.tanh(x[t].dot(W_xh.T) + b_xh + h_last.dot(W_hh.T) + b_hh)\n",
        "  y = h.dot(Wo.T) + bo # we only care about this value on the last iteration\n",
        "  Yhats[t] = y\n",
        "\n",
        "  # important: assign h to h_last\n",
        "  h_last = h\n",
        "\n",
        "# print the final output\n",
        "print(Yhats)"
      ],
      "metadata": {
        "colab": {
          "base_uri": "https://localhost:8080/"
        },
        "id": "0heasLxVfREG",
        "outputId": "790636e1-7bb2-4072-fefc-979511a2daf2"
      },
      "execution_count": 27,
      "outputs": [
        {
          "output_type": "stream",
          "name": "stdout",
          "text": [
            "[[ 0.14285763 -0.06773254]\n",
            " [ 0.15106135 -0.07828531]\n",
            " [ 0.09524156  0.05289371]\n",
            " [-0.06609863  0.28833235]\n",
            " [ 0.0557301  -0.11175401]\n",
            " [ 0.08265598 -0.22739134]\n",
            " [-0.03637174  0.28077986]\n",
            " [ 0.11481806 -0.09021091]\n",
            " [ 0.15394555  0.10088641]\n",
            " [ 0.19636961  0.03084321]]\n"
          ]
        }
      ]
    },
    {
      "cell_type": "code",
      "source": [
        "# Check\n",
        "np.allclose(Yhats, Yhats_torch)"
      ],
      "metadata": {
        "colab": {
          "base_uri": "https://localhost:8080/"
        },
        "id": "B3PY0g6af2u3",
        "outputId": "600464df-91a3-4164-8aa7-5c1790ff6fad"
      },
      "execution_count": 28,
      "outputs": [
        {
          "output_type": "execute_result",
          "data": {
            "text/plain": [
              "True"
            ]
          },
          "metadata": {},
          "execution_count": 28
        }
      ]
    },
    {
      "cell_type": "code",
      "source": [
        "# Bonus: calculate output for multiple samples at once (N > 1)"
      ],
      "metadata": {
        "id": "hMuChtAxgDLu"
      },
      "execution_count": 30,
      "outputs": []
    },
    {
      "cell_type": "code",
      "source": [],
      "metadata": {
        "id": "XcZbck-0gK7v"
      },
      "execution_count": null,
      "outputs": []
    }
  ]
}